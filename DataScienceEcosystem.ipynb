{
 "cells": [
  {
   "cell_type": "markdown",
   "id": "f9bc5162-6368-45e4-84d1-58bc5f984a53",
   "metadata": {
    "tags": []
   },
   "source": [
    "# Data Science Tools and Ecosystem"
   ]
  },
  {
   "cell_type": "markdown",
   "id": "7a8afa75-ebae-4075-95e7-1a43aaa7bb93",
   "metadata": {},
   "source": [
    "In this notebook, Data Science Tools and Ecosystem are summarized."
   ]
  },
  {
   "cell_type": "markdown",
   "id": "5df21f72-c6a4-47fb-907f-bbac28c80f63",
   "metadata": {},
   "source": [
    "__Objectives:__\n",
    "\n",
    "* List popular languages in Data Science.\n",
    "* List commonly used libraries.\n",
    "* List the tools used."
   ]
  },
  {
   "cell_type": "markdown",
   "id": "a97d5c3d-9860-4a0b-8f8e-031dbc63da50",
   "metadata": {
    "tags": []
   },
   "source": [
    "Some of the popular languages that Data Scientists use are:\n",
    "1. Python\n",
    "2. R\n",
    "3. Scala"
   ]
  },
  {
   "cell_type": "markdown",
   "id": "de4646ee-06f5-4168-b9b7-5e68d328bc0e",
   "metadata": {},
   "source": [
    "Some of the commonly used libraries used by Data Scientists include:\n",
    "1. Pandas\n",
    "2. Numpy\n",
    "3. Scikit Leasrn"
   ]
  },
  {
   "cell_type": "markdown",
   "id": "b7021e82-5c70-45aa-b4ca-3b6f9d05d747",
   "metadata": {},
   "source": [
    "| Data Science Tools |\n",
    "-----------------------\n",
    "| Pycharm |\n",
    "| Anaconda|\n",
    "| R Studio|"
   ]
  },
  {
   "cell_type": "markdown",
   "id": "c61f7f44-3d4f-4f31-813a-f81deec986f9",
   "metadata": {},
   "source": [
    "Below are a few examples of evaluating arithmetic expressions in Python"
   ]
  },
  {
   "cell_type": "code",
   "execution_count": 4,
   "id": "8c300e28-1173-41a5-ae9a-bcc8b2e8b964",
   "metadata": {
    "tags": []
   },
   "outputs": [
    {
     "data": {
      "text/plain": [
       "17"
      ]
     },
     "execution_count": 4,
     "metadata": {},
     "output_type": "execute_result"
    }
   ],
   "source": [
    "#This a simple arithmetic expression to mutiply then add integers.\n",
    "\n",
    "(3*4)+5"
   ]
  },
  {
   "cell_type": "code",
   "execution_count": 5,
   "id": "d564d27b-6aab-4ee3-a390-328cc1a38e97",
   "metadata": {
    "tags": []
   },
   "outputs": [
    {
     "data": {
      "text/plain": [
       "3.3333333333333335"
      ]
     },
     "execution_count": 5,
     "metadata": {},
     "output_type": "execute_result"
    }
   ],
   "source": [
    "#This will convert 200 minutes to hours by diving by 60.\n",
    "\n",
    "200/60"
   ]
  },
  {
   "cell_type": "markdown",
   "id": "5a920069-28ed-4dc8-a877-a652bcd0b952",
   "metadata": {
    "tags": []
   },
   "source": [
    "## Author\n",
    "Suchitra"
   ]
  }
 ],
 "metadata": {
  "kernelspec": {
   "display_name": "Python",
   "language": "python",
   "name": "conda-env-python-py"
  },
  "language_info": {
   "codemirror_mode": {
    "name": "ipython",
    "version": 3
   },
   "file_extension": ".py",
   "mimetype": "text/x-python",
   "name": "python",
   "nbconvert_exporter": "python",
   "pygments_lexer": "ipython3",
   "version": "3.7.12"
  }
 },
 "nbformat": 4,
 "nbformat_minor": 5
}
